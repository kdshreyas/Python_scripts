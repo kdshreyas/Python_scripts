{
  "nbformat": 4,
  "nbformat_minor": 0,
  "metadata": {
    "colab": {
      "name": "Python Tips and Tricks.ipynb",
      "provenance": [],
      "collapsed_sections": []
    },
    "kernelspec": {
      "name": "python3",
      "display_name": "Python 3"
    },
    "language_info": {
      "name": "python"
    }
  },
  "cells": [
    {
      "cell_type": "code",
      "execution_count": 4,
      "metadata": {
        "colab": {
          "base_uri": "https://localhost:8080/"
        },
        "id": "4Vo0Zf19_oE2",
        "outputId": "c881daf2-8235-4784-8dda-23329d999290"
      },
      "outputs": [
        {
          "output_type": "stream",
          "name": "stdout",
          "text": [
            "1\n"
          ]
        }
      ],
      "source": [
        "condition = True\n",
        "\n",
        "if condition:\n",
        "  x = 1\n",
        "else:\n",
        "  x = 0\n",
        "print(x)"
      ]
    },
    {
      "cell_type": "code",
      "source": [
        "# Using Ternary Conditionals\n",
        "\n",
        "x = 1 if condition else 0\n",
        "print(x)"
      ],
      "metadata": {
        "colab": {
          "base_uri": "https://localhost:8080/"
        },
        "id": "XpDLOdjZ_9qZ",
        "outputId": "b629eff3-4ec2-4683-bc47-9e7e878c4f5b"
      },
      "execution_count": 5,
      "outputs": [
        {
          "output_type": "stream",
          "name": "stdout",
          "text": [
            "1\n"
          ]
        }
      ]
    },
    {
      "cell_type": "code",
      "source": [
        "# Underscore Placeholders for large numbers\n",
        "\n",
        "num1 = 10000000000\n",
        "num2 = 100000000\n",
        "Total1 = num3 + num4\n",
        "print(\"Total1 = \",Total1)\n",
        "\n",
        "# underscore won't affect the programm anyway\n",
        "num3 = 10_000_000_000\n",
        "num4 = 100_000_000\n",
        "\n",
        "Total2 = num1 + num2\n",
        "print(\"Total2 = \",Total2)\n",
        "\n",
        "# To add commas in output use f string\n",
        "Total3 = Total2\n",
        "\n",
        "print(f'{Total3:,}')\n",
        "\n"
      ],
      "metadata": {
        "colab": {
          "base_uri": "https://localhost:8080/"
        },
        "id": "CWNr-E11ATH0",
        "outputId": "a62fb9d5-847d-4a4c-fe37-8c349b61d1c5"
      },
      "execution_count": 14,
      "outputs": [
        {
          "output_type": "stream",
          "name": "stdout",
          "text": [
            "Total1 =  10100000000\n",
            "Total2 =  10100000000\n",
            "10,100,000,000\n"
          ]
        }
      ]
    },
    {
      "cell_type": "code",
      "source": [
        "# Enumerate Function\n",
        "\n",
        "names = ['Shreyas', 'Chris', 'Dev', 'Vinod']\n",
        "index = 0\n",
        "for name in names:\n",
        "  print(index,name)\n",
        "  index += 1"
      ],
      "metadata": {
        "colab": {
          "base_uri": "https://localhost:8080/"
        },
        "id": "YM91XzDbBmjV",
        "outputId": "cd1c0607-57ba-4587-d32c-d1bfbaf72fde"
      },
      "execution_count": 21,
      "outputs": [
        {
          "output_type": "stream",
          "name": "stdout",
          "text": [
            "0 Shreyas\n",
            "1 Chris\n",
            "2 Dev\n",
            "3 Vinod\n"
          ]
        }
      ]
    },
    {
      "cell_type": "code",
      "source": [
        "for index, name in enumerate(names):\n",
        "  print(index,name)"
      ],
      "metadata": {
        "colab": {
          "base_uri": "https://localhost:8080/"
        },
        "id": "IP2uMr6ODEh5",
        "outputId": "1bd6a479-1824-4fc5-8bc8-7fc2f7d6ebfd"
      },
      "execution_count": 23,
      "outputs": [
        {
          "output_type": "stream",
          "name": "stdout",
          "text": [
            "0 Shreyas\n",
            "1 Chris\n",
            "2 Dev\n",
            "3 Vinod\n"
          ]
        }
      ]
    },
    {
      "cell_type": "code",
      "source": [
        "# To change the start index\n",
        "for index, name in enumerate(names, start = 10):\n",
        "  print(index,name)"
      ],
      "metadata": {
        "colab": {
          "base_uri": "https://localhost:8080/"
        },
        "id": "dHr3FoomDxtf",
        "outputId": "f5f0f43e-617d-48c8-b9d7-ab218e4b4e72"
      },
      "execution_count": 24,
      "outputs": [
        {
          "output_type": "stream",
          "name": "stdout",
          "text": [
            "10 Shreyas\n",
            "11 Chris\n",
            "12 Dev\n",
            "13 Vinod\n"
          ]
        }
      ]
    },
    {
      "cell_type": "code",
      "source": [
        "names = ['Peter Parker', 'Clark Kent', 'Wade Wilson', 'Bruce Wayne']\n",
        "heros = ['Spiderman', 'Superman', 'Deadpool', 'Batman']\n",
        "\n",
        "# usual way\n",
        "for index, name in enumerate(names):\n",
        "  hero = heros[index]\n",
        "  print(name, 'is actually',hero)"
      ],
      "metadata": {
        "colab": {
          "base_uri": "https://localhost:8080/"
        },
        "id": "iUSK02b0D3Bu",
        "outputId": "58a8ae81-d45c-429d-ed1d-a98d7ce48d8d"
      },
      "execution_count": 25,
      "outputs": [
        {
          "output_type": "stream",
          "name": "stdout",
          "text": [
            "Peter Parker is actually Spiderman\n",
            "Clark Kent is actually Superman\n",
            "Wade Wilson is actually Deadpool\n",
            "Bruce Wayne is actually Batman\n"
          ]
        }
      ]
    },
    {
      "cell_type": "code",
      "source": [
        "# using Zip  functions\n",
        "for name, hero in zip(names, heros):\n",
        "  print(f'{name} is actually {hero}')\n"
      ],
      "metadata": {
        "colab": {
          "base_uri": "https://localhost:8080/"
        },
        "id": "FjRGtd1tFvUB",
        "outputId": "2b137ef6-c454-4651-9858-fb02fa5f1448"
      },
      "execution_count": 26,
      "outputs": [
        {
          "output_type": "stream",
          "name": "stdout",
          "text": [
            "Peter Parker is actually Spiderman\n",
            "Clark Kent is actually Superman\n",
            "Wade Wilson is actually Deadpool\n",
            "Bruce Wayne is actually Batman\n"
          ]
        }
      ]
    },
    {
      "cell_type": "code",
      "source": [
        "# use * to assign remaining values to last variable\n",
        "a, b, *c = (1,2,3,4,5)\n",
        "print(a)\n",
        "print(b)\n",
        "print(c)"
      ],
      "metadata": {
        "colab": {
          "base_uri": "https://localhost:8080/"
        },
        "id": "OhoHWuzxHpJ5",
        "outputId": "bbd35f21-1283-4722-f03d-e3aa537e3c03"
      },
      "execution_count": 29,
      "outputs": [
        {
          "output_type": "stream",
          "name": "stdout",
          "text": [
            "1\n",
            "2\n",
            "[3, 4, 5]\n"
          ]
        }
      ]
    },
    {
      "cell_type": "code",
      "source": [
        "# use _ to ignore remaining values\n",
        "a, b, *_ = (1,2,3,4,5)\n",
        "print(a)\n",
        "print(b)"
      ],
      "metadata": {
        "colab": {
          "base_uri": "https://localhost:8080/"
        },
        "id": "ZUgdqAKNLyjO",
        "outputId": "2a9907e5-41e1-462e-b997-d02341d04b2c"
      },
      "execution_count": 30,
      "outputs": [
        {
          "output_type": "stream",
          "name": "stdout",
          "text": [
            "1\n",
            "2\n"
          ]
        }
      ]
    },
    {
      "cell_type": "code",
      "source": [
        "a, b, *c, d = (1,2,3,4,5)\n",
        "print(a)\n",
        "print(b)\n",
        "print(c)\n",
        "print(d)"
      ],
      "metadata": {
        "colab": {
          "base_uri": "https://localhost:8080/"
        },
        "id": "MujQNIyOMMx-",
        "outputId": "be94151e-aac3-4f5b-ff93-ba932d1c9bd5"
      },
      "execution_count": 31,
      "outputs": [
        {
          "output_type": "stream",
          "name": "stdout",
          "text": [
            "1\n",
            "2\n",
            "[3, 4]\n",
            "5\n"
          ]
        }
      ]
    },
    {
      "cell_type": "code",
      "source": [
        "a, b, *_, d = (1,2,3,4,5)\n",
        "print(a)\n",
        "print(b)\n",
        "print(d)"
      ],
      "metadata": {
        "colab": {
          "base_uri": "https://localhost:8080/"
        },
        "id": "Z4qoH42LModt",
        "outputId": "9943c975-1a30-428f-de7a-0229850cbdaa"
      },
      "execution_count": 33,
      "outputs": [
        {
          "output_type": "stream",
          "name": "stdout",
          "text": [
            "1\n",
            "2\n",
            "5\n"
          ]
        }
      ]
    },
    {
      "cell_type": "code",
      "source": [
        "username = input(\"Username: \")\n",
        "password = input(\"Password: \")\n",
        "\n",
        "print(\"Logging in...\")\n",
        "\n",
        "# here you can see that password is shown"
      ],
      "metadata": {
        "colab": {
          "base_uri": "https://localhost:8080/"
        },
        "id": "oGEGpj8P-VVa",
        "outputId": "216c9a08-4ea5-461f-bc65-64c7fd1672ec"
      },
      "execution_count": 1,
      "outputs": [
        {
          "output_type": "stream",
          "name": "stdout",
          "text": [
            "Username: Shreyas\n",
            "Password: ABCuihfu\n",
            "Logging in...\n"
          ]
        }
      ]
    },
    {
      "cell_type": "code",
      "source": [
        "from getpass import getpass\n",
        "\n",
        "username = input(\"Username: \")\n",
        "password = getpass(\"Password: \")\n",
        "\n",
        "print(\"Logging in...\")\n",
        "\n",
        "# password is hidden"
      ],
      "metadata": {
        "colab": {
          "base_uri": "https://localhost:8080/"
        },
        "id": "9cbLHCAe86lN",
        "outputId": "29906ff1-5c9f-4b79-d6ba-daceac5c4288"
      },
      "execution_count": 2,
      "outputs": [
        {
          "output_type": "stream",
          "name": "stdout",
          "text": [
            "Username: Shreyas\n",
            "Password: ··········\n",
            "Logging in...\n"
          ]
        }
      ]
    },
    {
      "cell_type": "code",
      "source": [
        "import re\n",
        "\n",
        "# dir(re) # what attribute and methods are available in object\n",
        "# help(re.sub)  # to get help about modules"
      ],
      "metadata": {
        "colab": {
          "base_uri": "https://localhost:8080/"
        },
        "id": "vXS-Po_PAdiH",
        "outputId": "87a67c73-96d6-439d-f66b-f12c8d2a0646"
      },
      "execution_count": 12,
      "outputs": [
        {
          "output_type": "stream",
          "name": "stdout",
          "text": [
            "Help on function sub in module re:\n",
            "\n",
            "sub(pattern, repl, string, count=0, flags=0)\n",
            "    Return the string obtained by replacing the leftmost\n",
            "    non-overlapping occurrences of the pattern in string by the\n",
            "    replacement repl.  repl can be either a string or a callable;\n",
            "    if a string, backslash escapes in it are processed.  If it is\n",
            "    a callable, it's passed the Match object and must return\n",
            "    a replacement string to be used.\n",
            "\n"
          ]
        }
      ]
    }
  ]
}